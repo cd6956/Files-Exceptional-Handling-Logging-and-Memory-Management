{
  "nbformat": 4,
  "nbformat_minor": 0,
  "metadata": {
    "colab": {
      "provenance": []
    },
    "kernelspec": {
      "name": "python3",
      "display_name": "Python 3"
    },
    "language_info": {
      "name": "python"
    }
  },
  "cells": [
    {
      "cell_type": "markdown",
      "source": [
        "# Files, Exceptional Handling, Logging and Memory Management"
      ],
      "metadata": {
        "id": "3M73TSSjaPRE"
      }
    },
    {
      "cell_type": "markdown",
      "source": [
        "# Q1. What is the difference between interpreted and compiled languages?"
      ],
      "metadata": {
        "id": "Q5RAP3LaaZ29"
      }
    },
    {
      "cell_type": "markdown",
      "source": [
        "-> Interpreted Languages are the languages which first interpret the code line by line. Example- Python.\n",
        "\n",
        "Compiled Languages are the languages which compiles the whole code in one go. Example- Java, C, C++.\n",
        "\n",
        "Python is considered as Interpreted Language but is a mixture of both Interpreted and compiled languages."
      ],
      "metadata": {
        "id": "wy97vwSLavOX"
      }
    },
    {
      "cell_type": "markdown",
      "source": [
        "# Q2. What is exception handling in Python?"
      ],
      "metadata": {
        "id": "iCiLsghWbYp4"
      }
    },
    {
      "cell_type": "markdown",
      "source": [
        "-> Exception handling in Python is a mechanism for dealing with errors that occur during the execution of a program. It allows you to gracefully handle unexpected situations and prevent your program from crashing.\n",
        "Example-\n",
        "for i in range(-10,10):\n",
        "      result=i/i+1\n",
        "      print(result)\n",
        "This code will throw an exception \"ZeroDivisionError\" when i would divide by 0 and to handle this exception will use try and except."
      ],
      "metadata": {
        "id": "f5rp6-3wbesl"
      }
    },
    {
      "cell_type": "markdown",
      "source": [
        "# Q3. What is the purpose of the finally block in exception handling?"
      ],
      "metadata": {
        "id": "Un8OeYHec7CQ"
      }
    },
    {
      "cell_type": "markdown",
      "source": [
        "-> Finally block is used to execute the important code whether the exception block would execute or not in Exception Handling. This is useful for closing resources, logging diagnostic messages, and other cleanup tasks."
      ],
      "metadata": {
        "id": "PBBuYLPKdB-o"
      }
    },
    {
      "cell_type": "markdown",
      "source": [
        "# Q4. What is logging in Python?"
      ],
      "metadata": {
        "id": "if8Uf0eedmJ-"
      }
    },
    {
      "cell_type": "markdown",
      "source": [
        "-> Logging is the tracking and noting down (recording) when state or flow of code changes. Five Types of Logging are DEBUG, ERROR, WARNING, CRITICAL and INFO. It is very useful for Debugging, monitoring applications Behaviour, etc.\n",
        "Example-\n",
        "\n",
        "logging.info(filename=\"abc.log\", level=logging.DEBUG, format=%s(asctime)%s(levelname)%)\n",
        "logging.debug(\"This is about detailed explanation of code\")\n",
        "logging.info(\"This is about code is working as expected\")\n",
        "logging.warning(\"This is about Potential Errors might in your code\")\n",
        "logging.error(\"This about error in your code\")\n",
        "logging.critical(\"This is about your code is terminated unexpectedly\")\n",
        "\n"
      ],
      "metadata": {
        "id": "U2nVlYC2dt-y"
      }
    },
    {
      "cell_type": "markdown",
      "source": [
        "# Q5. What is the significance of the __del__ method in Python?"
      ],
      "metadata": {
        "id": "BySZkrFRfk74"
      }
    },
    {
      "cell_type": "markdown",
      "source": [
        "-> The __del__ method is special method and is also known as dunder method. It is used to clean up resources in memory. For example-\n",
        "File Handles: Closing open files to prevent data corruption or resource leaks.\n",
        "\n",
        "Network Connections: Disconnecting from servers or other network resources.\n",
        "\n",
        "Database Connections: Closing database connections to release resources back to the database server.\n",
        "\n",
        "External Resources: Releasing any other external resources that the object might be holding onto.\n",
        "\n",
        "def __del__(self):\n",
        "  \n",
        "  self.file=file\n",
        "  \n",
        "  file.close()"
      ],
      "metadata": {
        "id": "a0TfLmlmlT2O"
      }
    },
    {
      "cell_type": "markdown",
      "source": [
        "# Q6. What is the difference between import and from ... import in Python?"
      ],
      "metadata": {
        "id": "TYwsbzIsmxm5"
      }
    },
    {
      "cell_type": "markdown",
      "source": [
        "-> The direct use of import means importing independent module of python whereas form .... import meaans importing module of particular package of python.\n",
        "\n",
        "import:\n",
        "\n",
        "Imports the entire module. This means all functions, classes, and variables within the module become accessible.\n",
        "\n",
        "Requires using the module name as a prefix. To access a specific attribute, you need to use the dot notation.\n",
        "\n",
        "import math\n",
        "\n",
        "result = math.sqrt(25)\n",
        "\n",
        "from ... import:\n",
        "\n",
        "Imports specific attributes from a module. You can choose exactly which functions, classes, or variables you want to import.\n",
        "Allows direct access to the imported attributes. You can use them without the module name prefix.\n",
        "Example:\n",
        "\n",
        "from math import sqrt\n",
        "\n",
        "result = sqrt(25)"
      ],
      "metadata": {
        "id": "F7zCRejYnjhO"
      }
    },
    {
      "cell_type": "markdown",
      "source": [
        "# Q7. How can you handle multiple exceptions in Python?"
      ],
      "metadata": {
        "id": "Tx0q0SaxpHM-"
      }
    },
    {
      "cell_type": "markdown",
      "source": [
        "-> 1. Using tuple of Exceptions\n",
        "\n",
        "try:\n",
        "      1/0\n",
        "      \n",
        "      open(\"abc.txt\", r)\n",
        "      \n",
        "      except (ZeroDivisionError, FileNotFoundError) as e:\n",
        "          \n",
        "          print(e)\n",
        "  \n",
        "  2. Using different block for different exceptions\n",
        "     \n",
        "     try:\n",
        "      \n",
        "      1/0\n",
        "      \n",
        "      open(\"abc.txt\", r)\n",
        "      \n",
        "      except ZeroDivisionError as e:\n",
        "          \n",
        "          print(e)\n",
        "\n",
        "      except FileNotFoundError as e:\n",
        "\n",
        "          print(e)\n",
        "\n"
      ],
      "metadata": {
        "id": "Vzv37LqPpQ_n"
      }
    },
    {
      "cell_type": "markdown",
      "source": [
        "# Q8. What is the purpose of the with statement when handling files in Python?"
      ],
      "metadata": {
        "id": "hsPFhzz9qUf9"
      }
    },
    {
      "cell_type": "markdown",
      "source": [
        "-> The with statement closes file automatically when handling files in python.\n",
        "The with statement in Python is used to simplify the management of resources, like files. It ensures that the resource is properly acquired and released, even if an exception occurs.\n",
        "\n",
        "with open('myfile.txt', 'r') as f:\n",
        "    data = f.read()\n",
        "    # Do something with the data"
      ],
      "metadata": {
        "id": "21BHzn4GqbID"
      }
    },
    {
      "cell_type": "markdown",
      "source": [
        "# Q9. What is the difference between multithreading and multiprocessing?"
      ],
      "metadata": {
        "id": "YKdg_qfAq-lE"
      }
    },
    {
      "cell_type": "markdown",
      "source": [
        "-> Multithreading- It executes processes concurrently that is one process at a time by a single core for a specific period of time. It is implemented by GIL(Global Interpreter Lock) in Python. It shares limited resources and memory\n",
        "Example- Managing tabs on Google Chrome or any other browser\n",
        "   \n",
        "   P1 for 5 seconds, then P2 for 5 seconds, then P1 for 5 seconds, then P2 for 5 seconds, then P3 for 5 seconds, and so on....\n",
        "\n",
        "Multiprocessing- It executes processes parallely. Each process shares same resources and memory. Each core is occupied by individual process. Example- Handling multiple user requests on server\n",
        "\n",
        "\n"
      ],
      "metadata": {
        "id": "nVbmwjvFrFmV"
      }
    },
    {
      "cell_type": "markdown",
      "source": [
        "# Q10. What are the advantages of using logging in a program."
      ],
      "metadata": {
        "id": "srA0e4tYs6Ou"
      }
    },
    {
      "cell_type": "markdown",
      "source": [
        "\n",
        "Efficient Debugging:\n",
        "\n",
        "Logs provide a detailed view of the program's state at the time of an error, allowing developers to pinpoint the root cause of issues much faster than relying solely on print statements or breakpoints.\n",
        "\n",
        "Monitoring Application Behavior:\n",
        "\n",
        "By logging key events and actions, developers can gain insights into how the application is performing in real-time, identifying potential bottlenecks or unusual patterns.\n",
        "\n",
        "Identifying Trends and Patterns:\n",
        "\n",
        "Analyzing log data over time can reveal recurring issues, user behavior trends, and help in proactive problem prevention.\n",
        "\n",
        "Security Auditing:\n",
        "\n",
        "Logging user actions and system events can be crucial for security analysis, identifying potential security breaches or unauthorized access attempts.\n",
        "\n",
        "Compliance Requirements:\n",
        "\n",
        "In regulated industries, logging can be essential to demonstrate compliance with data privacy and security standards by tracking system activity.\n",
        "\n",
        "Improved Maintainability:\n",
        "\n",
        "Well-structured logs make it easier for future developers to understand the application's logic and troubleshoot issues even when they are not familiar with the codebase.\n",
        "\n",
        "Flexibility in Configuration:\n",
        "\n",
        "Most logging frameworks allow for flexible configuration, letting developers choose the level of detail to log depending on the environment (development, staging, production)."
      ],
      "metadata": {
        "id": "fuE8V0_gtALx"
      }
    },
    {
      "cell_type": "markdown",
      "source": [
        "# Q11. What is memory management in Python?"
      ],
      "metadata": {
        "id": "ucGyUktIuEIB"
      }
    },
    {
      "cell_type": "markdown",
      "source": [
        "->Memory management in Python refers to the way Python handles the allocation and deallocation of memory for objects in your program. It's an essential aspect of the language that ensures efficient use of system memory and prevents memory leaks.\n",
        "\n",
        "Here's a breakdown of how Python manages memory:\n",
        "\n",
        "1. Private Heap Space:\n",
        "\n",
        "Python utilizes a private heap space to store all its objects and data structures. This heap is managed by the Python interpreter and is not accessible directly by the programmer.\n",
        "\n",
        "2. Memory Allocation:\n",
        "\n",
        "When you create an object in Python, the interpreter automatically allocates memory for it from the private heap.\n",
        "The size of the memory block allocated depends on the type and size of the object.\n",
        "\n",
        "3. Reference Counting:\n",
        "\n",
        "Python employs a reference counting mechanism to keep track of how many references exist to an object.\n",
        "Each time a reference to an object is created, the reference count for that object is incremented.\n",
        "When a reference is deleted, the reference count is decremented.\n",
        "\n",
        "4. Garbage Collection:\n",
        "\n",
        "When the reference count of an object drops to zero, it means the object is no longer accessible from the program.\n",
        "Python's garbage collector then automatically deallocates the memory occupied by that object, making it available for reuse.\n",
        "\n",
        "5. Generational Garbage Collector:\n",
        "\n",
        "Python's garbage collector uses a generational approach to further optimize memory management.\n",
        "Objects are categorized into different generations based on their lifespan.\n",
        "Newer objects are placed in younger generations, and objects that survive multiple garbage collection cycles are promoted to older generations.\n",
        "This approach allows the garbage collector to focus on younger generations, which are more likely to contain garbage, improving performance."
      ],
      "metadata": {
        "id": "5LTfe_1puMvy"
      }
    },
    {
      "cell_type": "markdown",
      "source": [
        "# Q12. What are the basic steps involved in exception handling in Python?"
      ],
      "metadata": {
        "id": "uXjbRinQhkas"
      }
    },
    {
      "cell_type": "markdown",
      "source": [
        "-> Exception handling in Python involves the following basic steps:\n",
        "\n",
        "Try: Enclose the code that might raise an exception within a try block.\n",
        "\n",
        "Except: Define one or more except blocks to handle specific exceptions.\n",
        "\n",
        "Finally (optional): Use a finally block to execute code that must run regardless of whether an exception occurred or not.\n",
        "\n",
        "try:\n",
        "    \n",
        "    result = 10 / 0\n",
        "\n",
        "except ZeroDivisionError:\n",
        "    \n",
        "    print(\"Division by zero!\")\n",
        "\n",
        "finally:\n",
        "\n",
        "    print(\"This always runs.\")"
      ],
      "metadata": {
        "id": "NFgzqE6RhqZN"
      }
    },
    {
      "cell_type": "markdown",
      "source": [
        "# Q13. Why is memory management important in Python?"
      ],
      "metadata": {
        "id": "UJ_xdSt7kPkz"
      }
    },
    {
      "cell_type": "markdown",
      "source": [
        "-> Memory management is important in python because-\n",
        "\n",
        "1. To free up resources in memory for computing new or remaining tasks of program.\n",
        "\n",
        "2. Performance Improvement:\n",
        "\n",
        "Efficient memory usage can lead to improved program performance. When memory is managed well, the Python interpreter spends less time allocating and deallocating memory, resulting in faster execution times.\n",
        "\n",
        "3.Preventing Memory Leaks:\n",
        "\n",
        "Memory leaks occur when memory is allocated but not released when it's no longer needed. Over time, this can lead to memory exhaustion and program crashes. Python's automatic memory management helps prevent these leaks, but understanding the underlying mechanisms can help you write more robust code."
      ],
      "metadata": {
        "id": "j_4q3-eakh7Y"
      }
    },
    {
      "cell_type": "markdown",
      "source": [
        "# Q14. What is the role of try and except in exception handling?"
      ],
      "metadata": {
        "id": "83W1mN01k8it"
      }
    },
    {
      "cell_type": "markdown",
      "source": [
        "-> The role of try and except is used to handle exception. The try block raises exception and except block displays that exception's error.\n",
        "\n",
        "try:\n",
        "\n",
        "The try block contains the code that might raise an exception.\n",
        "Python executes the code within the try block.\n",
        "\n",
        "Except:\n",
        "\n",
        "If an exception occurs within the try block, Python immediately jumps to the except block.\n",
        "\n",
        "The except block specifies how to handle the exception, such as printing an error message or logging the error.\n",
        "\n",
        "try:\n",
        "    \n",
        "    x = 10 / 0\n",
        "\n",
        "except ZeroDivisionError:\n",
        "    \n",
        "    print(\"Cannot divide by zero.\")"
      ],
      "metadata": {
        "id": "pakN9g_KlAG6"
      }
    },
    {
      "cell_type": "markdown",
      "source": [
        "# Q15. How does Python's garbage collection system work?"
      ],
      "metadata": {
        "id": "J5P2_ngwltf3"
      }
    },
    {
      "cell_type": "markdown",
      "source": [
        "->Python's garbage collection (GC) is a system that automatically finds and removes objects that are no longer in use. This process frees up memory for new objects.\n",
        "\n",
        "How it works\n",
        "\n",
        "Reference counting\n",
        "\n",
        "Keeps track of how many references an object has. When an object's reference count reaches zero, the GC removes it from memory.\n",
        "Generational garbage collection\n",
        "\n",
        "Divides memory into generations, with new objects in the youngest generation.\n",
        "\n",
        "If an object survives a garbage collection cycle, it moves to the next generation.\n",
        "\n",
        "Mark-and-sweep\n",
        "\n",
        "An algorithm that identifies which objects are reachable and which are not."
      ],
      "metadata": {
        "id": "ho3KEPa5ly3r"
      }
    },
    {
      "cell_type": "markdown",
      "source": [
        "# Q16.  What is the purpose of the else block in exception handling?"
      ],
      "metadata": {
        "id": "gEv5jQ0vl_YL"
      }
    },
    {
      "cell_type": "markdown",
      "source": [
        "-> The else block is used in exception handling to execute a piece of code of else block only if program does not throw exception.\n",
        "\n",
        "Example-\n",
        "try:\n",
        "  \n",
        "  for i in range(-10,10):\n",
        "      \n",
        "      10/i\n",
        "\n",
        "except ZeroDivisionError as e:\n",
        "    \n",
        "    print(\"Error is \", e)\n",
        "\n",
        "else:\n",
        "    \n",
        "    print(\"Program is working as expected)"
      ],
      "metadata": {
        "id": "P80GSEB6mEo4"
      }
    },
    {
      "cell_type": "markdown",
      "source": [
        "# Q17. What are the common logging levels in Python?"
      ],
      "metadata": {
        "id": "yOYNfSHEm5zG"
      }
    },
    {
      "cell_type": "markdown",
      "source": [
        "-> The common levels of logging are:-\n",
        "\n",
        "1. Debug- It is used to display message that is the information about the code.\n",
        "2. Info- It is used to display message that is the code is working as expected.\n",
        "3. Warning- It is used to display message that is about potential errors of the code.\n",
        "4. Error- It is used to display message that is about errors in the code.\n",
        "5. Critical- It is used to display messaage that is about unexpected termination of the code.\n"
      ],
      "metadata": {
        "id": "bDrbyDhUnC24"
      }
    },
    {
      "cell_type": "markdown",
      "source": [
        "# Q18. What is the difference between os.fork() and multiprocessing in Python?"
      ],
      "metadata": {
        "id": "bwmh4TfWn6nz"
      }
    },
    {
      "cell_type": "markdown",
      "source": [
        "-> In Python, \"os.fork()\" is a low-level system call that directly creates a copy of the current process (a child process), while \"multiprocessing\" is a higher-level library that provides more robust tools for managing multiple processes, including methods to spawn new processes, handle communication between them, and generally offers a safer and more flexible way to achieve parallel processing compared to just using \"os.fork()\" alone\n",
        "\n",
        "Functionality:\n",
        "\n",
        "\"os.fork()\" simply creates a duplicate of the current process, inheriting all its memory and state, whereas \"multiprocessing\" allows you to create new processes with more control over their state and behavior, including specifying target functions and arguments.\n",
        "\n",
        "Complexity:\n",
        "\n",
        "Using \"os.fork()\" directly can be complex, especially when dealing with multithreaded applications, as the child process inherits all the parent's threads, leading to potential issues. \"Multiprocessing\" handles these complexities by providing safer methods like \"spawn\" which can be more reliably used in multithreaded environments.\n",
        "\n",
        "Platform dependence:\n",
        "\n",
        "\"os.fork()\" is primarily used on Unix-like systems and may not be available on Windows, while \"multiprocessing\" is designed to work across different platforms with appropriate spawning mechanisms."
      ],
      "metadata": {
        "id": "-xbUoOsWoAk-"
      }
    },
    {
      "cell_type": "markdown",
      "source": [
        "# Q19. What is the importance of closing a file in Python?"
      ],
      "metadata": {
        "id": "1nJMMCohoNi5"
      }
    },
    {
      "cell_type": "markdown",
      "source": [
        "-> The importance of closing a file is-\n",
        "\n",
        "1. It saves the work you have done on file. If you don't close the file, the work on file would be lost.\n",
        "\n",
        "2.Resource Management:\n",
        "\n",
        "File Handles:\n",
        "\n",
        "When you open a file, the operating system allocates a file handle, which is a limited resource. If you don't close the file, this handle remains in use, potentially leading to a situation where you run out of available handles and can't open new files.\n",
        "\n",
        "Memory Leaks:\n",
        "\n",
        "Not closing files can lead to memory leaks, where the memory allocated to the file object is not released back to the system, causing your program to use more memory than necessary."
      ],
      "metadata": {
        "id": "l4yxkXsKoSfL"
      }
    },
    {
      "cell_type": "markdown",
      "source": [
        "# Q20. What is the difference between file.read() and file.readline() in Python?"
      ],
      "metadata": {
        "id": "UVFCA4G1oyxM"
      }
    },
    {
      "cell_type": "markdown",
      "source": [
        "-> The file.read() reads the file until it reaches the end of file whereas file.readline() only reads the file until it reaches new line \"\\n\".\n",
        "\n",
        "file.read():\n",
        "\n",
        "Reads the entire file: This method reads the entire contents of the file as a single string.\n",
        "\n",
        "Memory usage: If the file is large, loading the entire file into memory can be inefficient.\n",
        "\n",
        "file.readline():\n",
        "\n",
        "Reads one line at a time: This method reads a single line from the file, up to and including the newline character (\\n).\n",
        "\n",
        "Memory efficiency: It is more memory-efficient for large files as it reads only one line at a time."
      ],
      "metadata": {
        "id": "alQux_ujo2cx"
      }
    },
    {
      "cell_type": "markdown",
      "source": [
        "# Q21. What is the logging module in Python used for?"
      ],
      "metadata": {
        "id": "dxRbwyfSpZwM"
      }
    },
    {
      "cell_type": "markdown",
      "source": [
        "-> Logging module is used to record each change in state of the code or to track flow of the code.\n",
        "\n",
        "The logging module in Python is used to track and record events that occur during a program's execution, allowing developers to monitor the application's behavior, debug issues, and record important information like errors, warnings, and status updates, essentially acting as a \"diary\" for the program's activity.\n",
        "\n",
        "It is used for-\n",
        "\n",
        "1. Security - to record events of the code\n",
        "\n",
        "2. Flexibility- to monitor behaviour of the application\n",
        "\n"
      ],
      "metadata": {
        "id": "XptYbfSDpeyC"
      }
    },
    {
      "cell_type": "markdown",
      "source": [
        "# Q22. What is the os module in Python used for in file handling?"
      ],
      "metadata": {
        "id": "6JB-9ZFEqYj_"
      }
    },
    {
      "cell_type": "markdown",
      "source": [
        "-> The \"os\" module in Python is primarily used for interacting with the operating system's file system, enabling you to perform various file handling operations like creating, deleting, renaming files and directories, managing paths, and getting information about files and directories, all in a platform-independent manner; essentially allowing you to manage your file system through Python code across different operating systems.\n",
        "\n",
        "For example-\n",
        "\n",
        "import os\n",
        "\n",
        "os.makedirs(\"a/b/c\")\n",
        "os.mkdir(\"A/B\")\n",
        "OS.getcwd()"
      ],
      "metadata": {
        "id": "n9-tNNh5qdcI"
      }
    },
    {
      "cell_type": "markdown",
      "source": [
        "# Q23. What are the challenges associated with memory management in Python?"
      ],
      "metadata": {
        "id": "W8XtA-OUq5Oo"
      }
    },
    {
      "cell_type": "markdown",
      "source": [
        "-> Python handles memory management automatically, but that doesn't mean it's without challenges. Here are a few key ones:\n",
        "1. Memory Leaks:\n",
        "\n",
        "Circular References:\n",
        "When objects reference each other, creating a cycle, the garbage collector might not be able to identify them as garbage even if they're no longer accessible from the main program. This can lead to memory leaks.\n",
        "\n",
        "Large Data Structures:\n",
        "If you work with large datasets or create complex data structures, the memory usage can grow significantly. If not managed properly, this could lead to performance issues or even crashes.\n",
        "\n",
        "2. Performance Overhead:\n",
        "\n",
        "Garbage Collection:\n",
        "While the garbage collector helps in reclaiming memory, its operation can introduce pauses in your program's execution. This can be problematic for real-time applications or those that require consistent performance.\n",
        "\n",
        "Reference Counting:\n",
        "Python's primary garbage collection mechanism, reference counting, adds overhead to object creation and deletion as it needs to maintain reference counts for each object.\n",
        "\n",
        "3. Limited Control:\n",
        "\n",
        "Lack of Fine-grained Control:\n",
        "Unlike languages like C++, Python doesn't provide direct control over memory allocation and deallocation. This makes it difficult to optimize memory usage in specific situations.\n",
        "\n",
        "Implementation-Specific Behavior:\n",
        "\n",
        "The memory management behavior in Python can vary depending on the implementation (CPython, PyPy, etc.). This can make it difficult to write code that behaves consistently across different implementations."
      ],
      "metadata": {
        "id": "MoQ5e5n4q981"
      }
    },
    {
      "cell_type": "markdown",
      "source": [
        "# Q24. How do you raise an exception manually in Python?"
      ],
      "metadata": {
        "id": "JZQ8LJRsrPo2"
      }
    },
    {
      "cell_type": "markdown",
      "source": [
        "-> To raise an exception manually in Python, you can use the raise statement.\n",
        "\n",
        "raise ExceptionType(\"Optional message\")\n",
        "\n",
        "def divide(x, y):\n",
        "    \n",
        "    if y == 0:\n",
        "        \n",
        "        raise ZeroDivisionError(\"Division by zero!\")\n",
        "    \n",
        "    return x / y\n",
        "\n",
        "try:\n",
        "    \n",
        "    result = divide(10, 0)\n",
        "\n",
        "except ZeroDivisionError as e:\n",
        "    \n",
        "    print(e)"
      ],
      "metadata": {
        "id": "nWeqDfpNrTXP"
      }
    },
    {
      "cell_type": "markdown",
      "source": [
        "# Q25. Why is it important to use multithreading in certain applications?"
      ],
      "metadata": {
        "id": "VaymKx7-rzvv"
      }
    },
    {
      "cell_type": "markdown",
      "source": [
        "-> It is important to use multithreading in certain applications because some processes in applications wait to input for their execution therefore for utilizing this time we can start another processes by freeing up processing who are waiting for input for their execution meanwhile. As soon as input will receive, that process will be executed.\n",
        "\n",
        "Multithreading is important in certain applications because it allows multiple tasks to run seemingly simultaneously, improving the overall performance and responsiveness of the application by efficiently utilizing the available CPU cores on a multi-core system, especially when dealing with tasks that can be executed independently of each other; this leads to better resource utilization and a smoother user experience."
      ],
      "metadata": {
        "id": "gONaMl5zr598"
      }
    },
    {
      "cell_type": "markdown",
      "source": [
        "# Practical Questions"
      ],
      "metadata": {
        "id": "m8R9Nrk2s3aG"
      }
    },
    {
      "cell_type": "markdown",
      "source": [
        "# Q1. How can you open a file for writing in Python and write a string to it?"
      ],
      "metadata": {
        "id": "dJaPnKWTs7Rs"
      }
    },
    {
      "cell_type": "code",
      "source": [
        "with open(\"File.txt\", \"w\") as f:\n",
        "  f.write(\"This is my first File\\nHow are you\\nFirst message in a file\")"
      ],
      "metadata": {
        "id": "6a9zym0ztCdy"
      },
      "execution_count": null,
      "outputs": []
    },
    {
      "cell_type": "markdown",
      "source": [
        "# Q2. Write a Python program to read the contents of a file and print each line."
      ],
      "metadata": {
        "id": "0IOFh8Hrt0s5"
      }
    },
    {
      "cell_type": "code",
      "source": [
        "f=open(\"File.txt\",\"r\")\n",
        "f.seek(0)\n",
        "print(f.read())\n",
        "f.close()"
      ],
      "metadata": {
        "id": "xh1NrCcnbeJC",
        "colab": {
          "base_uri": "https://localhost:8080/"
        },
        "outputId": "d4312305-4443-4ba1-8bc1-deeb4f31f50a"
      },
      "execution_count": null,
      "outputs": [
        {
          "output_type": "stream",
          "name": "stdout",
          "text": [
            "This is my first File\n",
            "How are you\n",
            "First message in a file\n"
          ]
        }
      ]
    },
    {
      "cell_type": "markdown",
      "source": [
        "# Q3. How would you handle a case where the file doesn't exist while trying to open it for reading?"
      ],
      "metadata": {
        "id": "Tgd_TNPSvD1N"
      }
    },
    {
      "cell_type": "code",
      "source": [
        "try:\n",
        "  f=open(\"Sample.txt\", \"r\")\n",
        "  f.read()\n",
        "  f.close()\n",
        "except FileNotFoundError as e:\n",
        "  print(e)"
      ],
      "metadata": {
        "colab": {
          "base_uri": "https://localhost:8080/"
        },
        "id": "pwvuOVcGvLJm",
        "outputId": "37cafba5-b0df-4010-9a59-9ff793dde32a"
      },
      "execution_count": null,
      "outputs": [
        {
          "output_type": "stream",
          "name": "stdout",
          "text": [
            "[Errno 2] No such file or directory: 'Sample.txt'\n"
          ]
        }
      ]
    },
    {
      "cell_type": "markdown",
      "source": [
        "# Q4. Write a Python script that reads from one file and writes its content to another file?"
      ],
      "metadata": {
        "id": "K1260IdkvJ5g"
      }
    },
    {
      "cell_type": "code",
      "source": [
        "with open(\"Sample.txt\", \"w\") as f:\n",
        "  f.write(\"This is Second File\\nAll Good!\\nmessage\")\n",
        "import shutil\n",
        "shutil.copy(\"/content/File.txt\", \"/content/Sample.txt\")\n"
      ],
      "metadata": {
        "id": "KYwngdWgv0mJ",
        "colab": {
          "base_uri": "https://localhost:8080/",
          "height": 35
        },
        "outputId": "8e6e6c9b-28a2-416b-e90d-ee7fe2db1468"
      },
      "execution_count": null,
      "outputs": [
        {
          "output_type": "execute_result",
          "data": {
            "text/plain": [
              "'/content/Sample.txt'"
            ],
            "application/vnd.google.colaboratory.intrinsic+json": {
              "type": "string"
            }
          },
          "metadata": {},
          "execution_count": 47
        }
      ]
    },
    {
      "cell_type": "markdown",
      "source": [
        "# Q5. How would you catch and handle division by zero error in Python?"
      ],
      "metadata": {
        "id": "Yme6EoAfySg3"
      }
    },
    {
      "cell_type": "code",
      "source": [
        "try:\n",
        "  10/0\n",
        "except ZeroDivisionError as e:\n",
        "  print(\"Error is\",e)"
      ],
      "metadata": {
        "colab": {
          "base_uri": "https://localhost:8080/"
        },
        "id": "Z6dc8wXPyXW0",
        "outputId": "3f1832e4-da90-4c6f-9f7d-0086aee37097"
      },
      "execution_count": null,
      "outputs": [
        {
          "output_type": "stream",
          "name": "stdout",
          "text": [
            "Error is division by zero\n"
          ]
        }
      ]
    },
    {
      "cell_type": "markdown",
      "source": [
        "# Q6. Write a Python program that logs an error message to a log file when a division by zero exception occurs?"
      ],
      "metadata": {
        "id": "e7N7uEROyns8"
      }
    },
    {
      "cell_type": "code",
      "source": [
        "import logging\n",
        "logging.basicConfig(filename=\"Error.log\", level=logging.INFO)\n",
        "try:\n",
        "  10/0\n",
        "except ZeroDivisionError as e:\n",
        "  logging.info(e)"
      ],
      "metadata": {
        "id": "qhphHqymynfA"
      },
      "execution_count": null,
      "outputs": []
    },
    {
      "cell_type": "markdown",
      "source": [
        "# Q7. How do you log information at different levels (INFO, ERROR, WARNING) in Python using the logging module?"
      ],
      "metadata": {
        "id": "1Md4w8iDyWj6"
      }
    },
    {
      "cell_type": "code",
      "source": [
        "import logging\n",
        "logging.basicConfig(filename=\"abc.log\", level=logging.info)\n",
        "logging.debug(\"About your code\")\n",
        "logging.info(\"Working as expected\")\n",
        "logging.warning(\"Potential errors may in your code\")\n",
        "logging.error(\"Errors in your code\")\n",
        "logging.shutdown()"
      ],
      "metadata": {
        "colab": {
          "base_uri": "https://localhost:8080/"
        },
        "id": "qyTUCdNB5csV",
        "outputId": "066956c4-b7a0-489e-ec23-a8905c6eb257"
      },
      "execution_count": null,
      "outputs": [
        {
          "output_type": "stream",
          "name": "stderr",
          "text": [
            "WARNING:root:Potential errors may in your code\n",
            "ERROR:root:Errors in your code\n"
          ]
        }
      ]
    },
    {
      "cell_type": "markdown",
      "source": [
        "# Q8. Write a program to handle a file opening error using exception handling?"
      ],
      "metadata": {
        "id": "gU8cxyUy7e26"
      }
    },
    {
      "cell_type": "code",
      "source": [
        "try:\n",
        "  open(\"abc.txt\", \"r\")\n",
        "except FileNotFoundError as e:\n",
        "  print(e)"
      ],
      "metadata": {
        "colab": {
          "base_uri": "https://localhost:8080/"
        },
        "id": "1rV4nkrD7kE4",
        "outputId": "a56eb9af-d825-408a-f09b-babcd6f845e8"
      },
      "execution_count": null,
      "outputs": [
        {
          "output_type": "stream",
          "name": "stdout",
          "text": [
            "[Errno 2] No such file or directory: 'abc.txt'\n"
          ]
        }
      ]
    },
    {
      "cell_type": "markdown",
      "source": [
        "# Q9. How can you read a file line by line and store its content in a list in Python?"
      ],
      "metadata": {
        "id": "-6mK4r6k78wh"
      }
    },
    {
      "cell_type": "code",
      "source": [
        "l=[]\n",
        "with open(\"abc.txt\", \"w\") as f:\n",
        "  f.write(\"This is abc.txt\\nIt's contents are simple alphabets components\\nThe end of file\")\n",
        "with open(\"abc.txt\", \"r\") as f:\n",
        "  f.seek(0)\n",
        "  t=f.read()\n",
        "  l.append(t)\n",
        "print(l)"
      ],
      "metadata": {
        "colab": {
          "base_uri": "https://localhost:8080/"
        },
        "id": "79LHbjas8lLj",
        "outputId": "f38255b3-67a2-4a54-8602-b577274c59c5"
      },
      "execution_count": null,
      "outputs": [
        {
          "output_type": "stream",
          "name": "stdout",
          "text": [
            "[\"This is abc.txt\\nIt's contents are simple alphabets components\\nThe end of file\"]\n"
          ]
        }
      ]
    },
    {
      "cell_type": "markdown",
      "source": [
        "# Q10. How can you append data to an existing file in Python?"
      ],
      "metadata": {
        "id": "OVT4Uvoh-Jz1"
      }
    },
    {
      "cell_type": "code",
      "source": [
        "with open(\"abc.txt\", \"a\") as f:\n",
        "  f.write(\"\\nAdding content to existing written file\")"
      ],
      "metadata": {
        "id": "lsmdbMFp-Ory"
      },
      "execution_count": null,
      "outputs": []
    },
    {
      "cell_type": "markdown",
      "source": [
        "# Q11. Write a Python program that uses a try-except block to handle an error when attempting to access a dictionary key that doesn't exist?"
      ],
      "metadata": {
        "id": "hL5QBRu--1-l"
      }
    },
    {
      "cell_type": "code",
      "source": [
        "my_dict={\"DS\":\"Data Science\", \"ML\":\"Machine Learning\", \"GS\":\"General Studies\"}\n",
        "try:\n",
        "    my_dict[\"AL\"]\n",
        "except KeyError as e:\n",
        "  print(f\"The Following key {e} does not exist\")"
      ],
      "metadata": {
        "colab": {
          "base_uri": "https://localhost:8080/"
        },
        "id": "jarWesk_-8W3",
        "outputId": "377d137d-b491-4bf1-9f92-9fcbebface5f"
      },
      "execution_count": null,
      "outputs": [
        {
          "output_type": "stream",
          "name": "stdout",
          "text": [
            "The Following key 'AL' does not exist\n"
          ]
        }
      ]
    },
    {
      "cell_type": "markdown",
      "source": [
        "# Q12. Write a program that demonstrates using multiple except blocks to handle different types of exceptions?"
      ],
      "metadata": {
        "id": "T-bx7U_tBA7J"
      }
    },
    {
      "cell_type": "code",
      "source": [
        "try:\n",
        "  open(\"smp.txt\", \"r\")\n",
        "  1/0\n",
        "except ZeroDivisionError as e:\n",
        "  print(e)\n",
        "except FileNotFoundError as e:\n",
        "  print(e)\n",
        "with open(\"smp.txt\", \"w\") as f:\n",
        "    f.write(\"Smp.txt\")"
      ],
      "metadata": {
        "colab": {
          "base_uri": "https://localhost:8080/"
        },
        "id": "Fl4KUad3BFZL",
        "outputId": "f6081160-379f-45e4-a9e7-299725cd8cfe"
      },
      "execution_count": null,
      "outputs": [
        {
          "output_type": "stream",
          "name": "stdout",
          "text": [
            "division by zero\n"
          ]
        }
      ]
    },
    {
      "cell_type": "markdown",
      "source": [
        "# Q13. How would you check if a file exists before attempting to read it in Python?"
      ],
      "metadata": {
        "id": "EbFQW90UD65C"
      }
    },
    {
      "cell_type": "code",
      "source": [
        "import os\n",
        "filepath=\"/content/ac.txt\"\n",
        "if os.path.exists(filepath):\n",
        "  f=open(\"ac.txt\", \"r\")\n",
        "  print(f.read())\n",
        "  f.close()\n",
        "else:\n",
        "  print(\"File does not exist\")\n"
      ],
      "metadata": {
        "colab": {
          "base_uri": "https://localhost:8080/"
        },
        "id": "8M7w_jpqD6sR",
        "outputId": "dcf97112-3c64-4be2-e280-17b58d6340f2"
      },
      "execution_count": null,
      "outputs": [
        {
          "output_type": "stream",
          "name": "stdout",
          "text": [
            "File does not exist\n"
          ]
        }
      ]
    },
    {
      "cell_type": "markdown",
      "source": [
        "# Q14. Write a program that uses the logging module to log both informational and error messages."
      ],
      "metadata": {
        "id": "QdinZcsoFEGd"
      }
    },
    {
      "cell_type": "code",
      "source": [
        "import logging\n",
        "logging.basicConfig(filename=\"Basic.log\", level=\"DEBUG\", format=\"%(asctime)s%(levelname)s%(message)s\")\n",
        "logging.info(\"Hello\")\n",
        "try:\n",
        "  for i in range(-10, 10):\n",
        "    i/i+1\n",
        "    logging.info(f\"Division of {i}/{i+1} is successful\")\n",
        "except ZeroDivisionError as e:\n",
        "  print(e)"
      ],
      "metadata": {
        "colab": {
          "base_uri": "https://localhost:8080/"
        },
        "id": "z0LSJ2dFFIkk",
        "outputId": "c52ac12d-16f3-44e8-9358-e58ab59e58bc"
      },
      "execution_count": null,
      "outputs": [
        {
          "output_type": "stream",
          "name": "stdout",
          "text": [
            "division by zero\n"
          ]
        }
      ]
    },
    {
      "cell_type": "markdown",
      "source": [
        "# Q15. Write a Python program that prints the content of a file and handles the case when the file is empty."
      ],
      "metadata": {
        "id": "omZ9ewN8H4lp"
      }
    },
    {
      "cell_type": "code",
      "source": [
        "file_path=\"/content/smp.txt\"\n",
        "with open(\"smp.txt\", \"r\") as f:\n",
        "  f.seek(0)\n",
        "  t=f.read()\n",
        "  if t:\n",
        "    print(t)\n",
        "  else:\n",
        "    print(\"File is Empty\")\n"
      ],
      "metadata": {
        "colab": {
          "base_uri": "https://localhost:8080/"
        },
        "id": "1eQ-4p85H9gG",
        "outputId": "a4c0dfe7-7d42-460d-e1bc-64d01936ee67"
      },
      "execution_count": null,
      "outputs": [
        {
          "output_type": "stream",
          "name": "stdout",
          "text": [
            "Smp.txt\n"
          ]
        }
      ]
    },
    {
      "cell_type": "markdown",
      "source": [
        "# Q16. Demonstrate how to use memory profiling to check the memory usage of a small program."
      ],
      "metadata": {
        "id": "BZPARyA0L17p"
      }
    },
    {
      "cell_type": "code",
      "source": [
        "pip install memory_profiler psutil"
      ],
      "metadata": {
        "colab": {
          "base_uri": "https://localhost:8080/"
        },
        "id": "sROWJmtVL6dv",
        "outputId": "1313f78f-ca04-4911-8f33-e35d53d4228a"
      },
      "execution_count": null,
      "outputs": [
        {
          "output_type": "stream",
          "name": "stdout",
          "text": [
            "Collecting memory_profiler\n",
            "  Downloading memory_profiler-0.61.0-py3-none-any.whl.metadata (20 kB)\n",
            "Requirement already satisfied: psutil in /usr/local/lib/python3.11/dist-packages (5.9.5)\n",
            "Downloading memory_profiler-0.61.0-py3-none-any.whl (31 kB)\n",
            "Installing collected packages: memory_profiler\n",
            "Successfully installed memory_profiler-0.61.0\n"
          ]
        }
      ]
    },
    {
      "cell_type": "code",
      "source": [
        "import memory_profiler\n",
        "import time\n",
        "\n",
        "@memory_profiler.profile  # Decorate the function you want to profile\n",
        "def process_data(size):\n",
        "    \"\"\"Allocates and processes data.\"\"\"\n",
        "    data = bytearray(size * 1024 * 1024)  # Allocate in MB\n",
        "    print(f\"Allocated {size} MB of data.\")\n",
        "    for i in range(min(1000, len(data))): # Access a small portion to avoid excessive processing.\n",
        "        _ = data[i]  # Accessing the elements.\n",
        "    time.sleep(2)  # Simulate some work\n",
        "    del data # Explicitly delete data\n",
        "    return \"Done!\"\n",
        "\n",
        "@memory_profiler.profile\n",
        "def main():\n",
        "    result = process_data(50)  # Process 50MB\n",
        "    print(f\"Result: {result}\")\n",
        "    result = process_data(100) # Process 100MB\n",
        "    print(f\"Result: {result}\")\n",
        "\n",
        "if __name__ == \"__main__\":\n",
        "    main()"
      ],
      "metadata": {
        "colab": {
          "base_uri": "https://localhost:8080/"
        },
        "id": "DNLwfUyVNLZC",
        "outputId": "d6d44d3c-7872-4a82-fe20-abf30de2af5d"
      },
      "execution_count": null,
      "outputs": [
        {
          "output_type": "stream",
          "name": "stdout",
          "text": [
            "ERROR: Could not find file <ipython-input-90-48d8779e4a52>\n",
            "NOTE: %mprun can only be used on functions defined in physical files, and not in the IPython environment.\n",
            "ERROR: Could not find file <ipython-input-90-48d8779e4a52>\n",
            "NOTE: %mprun can only be used on functions defined in physical files, and not in the IPython environment.\n",
            "Allocated 50 MB of data.\n",
            "Result: Done!\n",
            "ERROR: Could not find file <ipython-input-90-48d8779e4a52>\n",
            "NOTE: %mprun can only be used on functions defined in physical files, and not in the IPython environment.\n",
            "Allocated 100 MB of data.\n",
            "Result: Done!\n"
          ]
        }
      ]
    },
    {
      "cell_type": "markdown",
      "source": [
        "# Q17. Write a Python program to create and write a list of numbers to a file, one number per line"
      ],
      "metadata": {
        "id": "G7B4pcMkViz7"
      }
    },
    {
      "cell_type": "code",
      "source": [
        "l=[1,2,3,4,5,6,7,8,9,10,11,12,13,14,15,16,17]\n",
        "with open(\"Num.txt\", \"w\") as f:\n",
        "  for i in l:\n",
        "      f.write(f\"{i}\\n\")"
      ],
      "metadata": {
        "id": "s8EkDd94WDd0"
      },
      "execution_count": null,
      "outputs": []
    },
    {
      "cell_type": "markdown",
      "source": [
        "# Q18. How would you implement a basic logging setup that logs to a file with rotation after 1MB?"
      ],
      "metadata": {
        "id": "DyEP6CBZWB6T"
      }
    },
    {
      "cell_type": "code",
      "source": [
        "import logging\n",
        "logger = logging.getLogger(__name__)\n",
        "\n",
        "logger.setLevel(logging.INFO)\n",
        "\n",
        "handler = logging.handlers.RotatingFileHandler('app.log', maxBytes=1024*1024, backupCount=5)\n",
        "\n",
        "formatter = logging.Formatter('%(asctime)s - %(levelname)s - %(message)s')\n",
        "\n",
        "handler.setFormatter(formatter)\n",
        "\n",
        "logger.addHandler(handler)\n",
        "\n",
        "logger.info(\"This is a log message\")\n"
      ],
      "metadata": {
        "colab": {
          "base_uri": "https://localhost:8080/"
        },
        "id": "RRIN0iIDW6cK",
        "outputId": "8efcee8f-fd4e-4c9c-8c47-ac06b72a0d94"
      },
      "execution_count": null,
      "outputs": [
        {
          "output_type": "stream",
          "name": "stderr",
          "text": [
            "INFO:__main__:This is a log message\n"
          ]
        }
      ]
    },
    {
      "cell_type": "code",
      "source": [
        "# Q19. Write a program that handles both IndexError and KeyError using a try-except block"
      ],
      "metadata": {
        "id": "VuCb3-SYc0jD"
      },
      "execution_count": null,
      "outputs": []
    },
    {
      "cell_type": "code",
      "source": [
        "l=[1,2,3]\n",
        "my_dict={\"DS\": \"Data Science\", \"ML\": \"Machine Learning\"}\n",
        "try:\n",
        "   l[5]\n",
        "   my_dict[\"GS\"]\n",
        "except IndexError as e:\n",
        "         print(e)\n",
        "except KeyError as e:\n",
        "         print(f\"Key {e} does not exist\")\n"
      ],
      "metadata": {
        "colab": {
          "base_uri": "https://localhost:8080/"
        },
        "id": "thH77d7ic5by",
        "outputId": "04280ac0-a34e-44b8-e3c3-30d263f4a16b"
      },
      "execution_count": null,
      "outputs": [
        {
          "output_type": "stream",
          "name": "stdout",
          "text": [
            "list index out of range\n"
          ]
        }
      ]
    },
    {
      "cell_type": "markdown",
      "source": [
        "# Q20. How would you open a file and read its contents using a context manager in Python?"
      ],
      "metadata": {
        "id": "or94BpJZd-9p"
      }
    },
    {
      "cell_type": "code",
      "source": [
        "with open(\"Num.txt\", \"r\") as file:\n",
        "\n",
        "    contents = file.read()\n",
        "\n",
        "    print(contents)"
      ],
      "metadata": {
        "colab": {
          "base_uri": "https://localhost:8080/"
        },
        "id": "p_qcAQUeeD_E",
        "outputId": "114fc5a9-dbea-4552-fb70-e8749c4abaf5"
      },
      "execution_count": null,
      "outputs": [
        {
          "output_type": "stream",
          "name": "stdout",
          "text": [
            "1\n",
            "2\n",
            "3\n",
            "4\n",
            "5\n",
            "6\n",
            "7\n",
            "8\n",
            "9\n",
            "10\n",
            "11\n",
            "12\n",
            "13\n",
            "14\n",
            "15\n",
            "16\n",
            "17\n",
            "\n"
          ]
        }
      ]
    },
    {
      "cell_type": "markdown",
      "source": [
        "# Q21. Write a Python program that reads a file and prints the number of occurrences of a specific word."
      ],
      "metadata": {
        "id": "FmJ4f8SmeWtL"
      }
    },
    {
      "cell_type": "code",
      "source": [
        "word=input(\"Enter the word you want to count for in a file\")\n",
        "count=0\n",
        "with open(\"NewFile.txt\", \"w\") as f:\n",
        "  f.write(\"This is sample file demonstrating sample text that is containing sample texts\")\n",
        "with open(\"NewFile.txt\", \"r\") as f:\n",
        "  for i in f:\n",
        "    words=i.split()\n",
        "    for i in words:\n",
        "      if(i==word):\n",
        "        count=count+1\n",
        "print(f\"The count of {word} in file is {count}\")\n",
        "\n"
      ],
      "metadata": {
        "colab": {
          "base_uri": "https://localhost:8080/"
        },
        "id": "P9Mfotemeawm",
        "outputId": "e33d80c5-3123-468a-dcfe-817d3e15a246"
      },
      "execution_count": null,
      "outputs": [
        {
          "output_type": "stream",
          "name": "stdout",
          "text": [
            "Enter the word you want to count for in filesample\n",
            "The count of sample in file is 3\n"
          ]
        }
      ]
    },
    {
      "cell_type": "markdown",
      "source": [
        "# Q22. How can you check if a file is empty before attempting to read its contents?"
      ],
      "metadata": {
        "id": "Ryolh4sejTm3"
      }
    },
    {
      "cell_type": "code",
      "source": [
        "with open(\"ABC.txt\", \"r\") as f:\n",
        "  contents=f.read()\n",
        "  if contents:\n",
        "    print(contents)\n",
        "  else:\n",
        "    print(\"File is Empty\")"
      ],
      "metadata": {
        "colab": {
          "base_uri": "https://localhost:8080/"
        },
        "id": "FdtZEs89jYzS",
        "outputId": "20cf2d5b-e399-4942-f002-c0300cdbb7eb"
      },
      "execution_count": null,
      "outputs": [
        {
          "output_type": "stream",
          "name": "stdout",
          "text": [
            "File is Empty\n"
          ]
        }
      ]
    },
    {
      "cell_type": "markdown",
      "source": [
        "# Q23. Write a Python program that writes to a log file when an error occurs during file handling."
      ],
      "metadata": {
        "id": "oQ-rzSYakvlW"
      }
    },
    {
      "cell_type": "code",
      "source": [
        "import logging\n",
        "logging.basicConfig(filename=\"Er.log\", level=\"DEBUG\")\n",
        "try:\n",
        "  open(\"Sample.txt\", \"r\")\n",
        "except FileNotFoundError as e:\n",
        "  logging.error(e)"
      ],
      "metadata": {
        "id": "9l1x0Qr6k315",
        "colab": {
          "base_uri": "https://localhost:8080/"
        },
        "outputId": "165461c1-3dc5-4cdc-d02f-1dc57d7b90ac"
      },
      "execution_count": 138,
      "outputs": [
        {
          "output_type": "stream",
          "name": "stderr",
          "text": [
            "ERROR:root:[Errno 2] No such file or directory: 'Sample.txt'\n"
          ]
        }
      ]
    },
    {
      "cell_type": "code",
      "source": [],
      "metadata": {
        "id": "C424kdiNmpA-"
      },
      "execution_count": null,
      "outputs": []
    }
  ]
}